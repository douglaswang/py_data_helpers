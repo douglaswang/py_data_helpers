{
 "cells": [
  {
   "cell_type": "markdown",
   "source": [
    "We should be able to extract options from the field list"
   ],
   "metadata": {}
  },
  {
   "cell_type": "code",
   "execution_count": 1,
   "source": [
    "import pytest\n",
    "import json\n",
    "import ipywidgets as widgets\n",
    "from enum import Enum\n",
    "from data_helpers.cls_construction import *\n",
    "from data_helpers.cls_parsing import dict_to_cls\n",
    "from data_helpers.encoders import AdvancedJsonDecoder, AdvancedJsonEncoder\n"
   ],
   "outputs": [],
   "metadata": {}
  },
  {
   "cell_type": "code",
   "execution_count": 2,
   "source": [
    "\n",
    "example_fields = [\n",
    "    Field('main', 'foo', 'Foo', str, 'Example field description a', True, None, []),\n",
    "    NumberField('main', 'bar', 'Bar', int, 'Example number field', False, 9, min=3, max=33, step=3),\n",
    "    Select('main', 'sel', 'Sel', str, 'Example field', False, None,\n",
    "           options=[Option('a', 'A', []), Option('b', 'B', [])]),\n",
    "    Field('other', 'bar', 'Bar', str, 'Example field', True, \"default_bar\", []),\n",
    "]\n",
    "\n",
    "example_groups = set(f.group for f in example_fields)"
   ],
   "outputs": [],
   "metadata": {}
  },
  {
   "cell_type": "code",
   "execution_count": 3,
   "source": [
    "# Simply display each field as grouped text input\n",
    "from ipywidgets import Box, HBox, VBox, Layout\n",
    "field_widgets = {}\n",
    "input_layout = Layout( width='40%')\n",
    "label_layout = Layout( width='30%', display=\"flex\", justify_content=\"flex-end\")\n",
    "desc_layout = Layout( width='30%', display=\"flex\", justify_content=\"flex-start\")\n",
    "field_container_layout = Layout(display='flex', width='100%', align_items='stretch', flex_flow='horiz')\n",
    "for field in example_fields:\n",
    "    if field.group not in field_widgets:\n",
    "        field_widgets[field.group] = []\n",
    "    label = widgets.Label(field.label, layout=label_layout)\n",
    "    input_field = widgets.Text(layout=input_layout)\n",
    "    desc = widgets.Label(field.desc, layout=desc_layout)\n",
    "    contained = Box([label, input_field, desc], layout=field_container_layout)\n",
    "    field_widgets[field.group].append(contained)\n",
    "\n",
    "container_layout = Layout(\n",
    "    display='flex',\n",
    "    border='solid 0.1px',\n",
    "    flex_flow='column',\n",
    "    align_items='stretch',\n",
    ")\n",
    "boxes = VBox([Box(children=[widgets.Label(k), *v], layout=container_layout) for k,v in field_widgets.items()], layout=container_layout)\n",
    "boxes\n",
    "# field_widgets\n"
   ],
   "outputs": [
    {
     "output_type": "display_data",
     "data": {
      "text/plain": [
       "VBox(children=(Box(children=(Label(value='main'), Box(children=(Label(value='Foo', layout=Layout(display='flex…"
      ],
      "application/vnd.jupyter.widget-view+json": {
       "version_major": 2,
       "version_minor": 0,
       "model_id": "1b91c9e7f4d8425885a27f23e7c7897b"
      }
     },
     "metadata": {}
    }
   ],
   "metadata": {}
  },
  {
   "cell_type": "code",
   "execution_count": 4,
   "source": [
    "# Display sections based on initial inputs\n",
    "from IPython.display import display\n",
    "button = widgets.Button(description=\"Click Me!\")\n",
    "output = widgets.Output()\n",
    "\n",
    "label = widgets.Label(\"hello\")\n",
    "section = Box([\n",
    "    widgets.Label(\"A\"),\n",
    "    widgets.Label(\"B\"),\n",
    "    widgets.Label(\"C\"),\n",
    "    widgets.Label(\"D\"),\n",
    "])\n",
    "def on_button_clicked(b):\n",
    "    section.layout.visibility = 'visible' if section.layout.visibility == 'hidden' else 'hidden'\n",
    "    \n",
    "button.on_click(on_button_clicked)\n",
    "display(Box([label, button, section]))\n",
    "display(output)"
   ],
   "outputs": [
    {
     "output_type": "display_data",
     "data": {
      "text/plain": [
       "Box(children=(Label(value='hello'), Button(description='Click Me!', style=ButtonStyle()), Box(children=(Label(…"
      ],
      "application/vnd.jupyter.widget-view+json": {
       "version_major": 2,
       "version_minor": 0,
       "model_id": "1b3edc1987404fb0a665c0f10479d381"
      }
     },
     "metadata": {}
    },
    {
     "output_type": "display_data",
     "data": {
      "text/plain": [
       "Output()"
      ],
      "application/vnd.jupyter.widget-view+json": {
       "version_major": 2,
       "version_minor": 0,
       "model_id": "a2d96b8a1a384871ae0a9b8019d0fe08"
      }
     },
     "metadata": {}
    }
   ],
   "metadata": {}
  },
  {
   "cell_type": "code",
   "execution_count": 5,
   "source": [
    "# Linked widgets\n",
    "from ipywidgets import widgets  \n",
    "\n",
    "# Create text widget for output\n",
    "output_text = widgets.Text()\n",
    "\n",
    "# Create text widget for input\n",
    "input_text = widgets.Text()\n",
    "\n",
    "# Define function to bind value of the input to the output variable \n",
    "def bind_input_to_output(sender):\n",
    "    output_text.value = input_text.value\n",
    "\n",
    "# Tell the text input widget to call bind_input_to_output() on submit\n",
    "# input_text.on_value_change(bind_input_to_output)\n",
    "input_text.observe(bind_input_to_output, names=\"value\")\n",
    "# Display input text box widget for input\n",
    "Box([input_text,output_text])\n"
   ],
   "outputs": [
    {
     "output_type": "display_data",
     "data": {
      "text/plain": [
       "Box(children=(Text(value=''), Text(value='')))"
      ],
      "application/vnd.jupyter.widget-view+json": {
       "version_major": 2,
       "version_minor": 0,
       "model_id": "2583cd4f927d403da1d273d1bcc7484a"
      }
     },
     "metadata": {}
    }
   ],
   "metadata": {}
  },
  {
   "cell_type": "code",
   "execution_count": 6,
   "source": [
    "output_text"
   ],
   "outputs": [
    {
     "output_type": "display_data",
     "data": {
      "text/plain": [
       "Text(value='')"
      ],
      "application/vnd.jupyter.widget-view+json": {
       "version_major": 2,
       "version_minor": 0,
       "model_id": "54c23a50ecc64ee49b456778bcc1f57c"
      }
     },
     "metadata": {}
    }
   ],
   "metadata": {}
  },
  {
   "cell_type": "markdown",
   "source": [
    "# Collapseable sections"
   ],
   "metadata": {}
  },
  {
   "cell_type": "code",
   "execution_count": 7,
   "source": [
    "# Simply display each field as grouped text input\n",
    "from ipywidgets import Box, HBox, VBox, Layout\n",
    "field_widgets = {}\n",
    "output=widgets.Output()\n",
    "input_layout = Layout( width='40%')\n",
    "label_layout = Layout( width='30%', display=\"flex\", justify_content=\"flex-end\")\n",
    "desc_layout = Layout( width='30%', display=\"flex\", justify_content=\"flex-start\")\n",
    "field_container_layout = Layout(display='flex', width='100%', align_items='stretch', flex_flow='horiz')\n",
    "def container_layout(expanded=True): return Layout(\n",
    "    display='flex',\n",
    "    border='solid 0.1px',\n",
    "    flex_flow='column',\n",
    "    align_items='stretch',\n",
    "    height='auto',\n",
    "    visibility='visible',\n",
    ") if expanded else Layout(\n",
    "    display='flex',\n",
    "    border='solid 0.1px',\n",
    "    flex_flow='column',\n",
    "    align_items='stretch',\n",
    "    height='0',\n",
    "    visibility='hidden',\n",
    ")\n",
    "\n",
    "for field in example_fields:\n",
    "    if field.group not in field_widgets:\n",
    "        field_widgets[field.group] = []\n",
    "    label = widgets.Label(field.label, layout=label_layout)\n",
    "    input_field = widgets.Text(layout=input_layout)\n",
    "    desc = widgets.Label(field.desc, layout=desc_layout)\n",
    "    contained = Box([label, input_field, desc], layout=field_container_layout)\n",
    "    field_widgets[field.group].append(contained)\n",
    "    # display(f)\n",
    "\n",
    "\n",
    "sections = []\n",
    "for k, v in field_widgets.items():\n",
    "    content = Box(v,layout=container_layout(False))\n",
    "    header_btn = widgets.Button(description=k)\n",
    "    sections.append(Box([header_btn, content], layout=container_layout()))\n",
    "    def on_button_clicked(target, k):\n",
    "        def inner(b):\n",
    "            is_visable = target.layout.visibility != 'hidden'\n",
    "            target.layout = container_layout(False) if is_visable else container_layout(True)\n",
    "        return inner\n",
    "    header_btn.on_click(on_button_clicked(content, k))\n",
    "\n",
    "boxes = VBox(sections, layout=container_layout())\n",
    "display(output)\n",
    "display(boxes)\n",
    "# field_widgets\n"
   ],
   "outputs": [
    {
     "output_type": "display_data",
     "data": {
      "text/plain": [
       "Output()"
      ],
      "application/vnd.jupyter.widget-view+json": {
       "version_major": 2,
       "version_minor": 0,
       "model_id": "4232cf86aed84f7abe72ce1ee04d2c6d"
      }
     },
     "metadata": {}
    },
    {
     "output_type": "display_data",
     "data": {
      "text/plain": [
       "VBox(children=(Box(children=(Button(description='main', style=ButtonStyle()), Box(children=(Box(children=(Labe…"
      ],
      "application/vnd.jupyter.widget-view+json": {
       "version_major": 2,
       "version_minor": 0,
       "model_id": "ff6255f6cc4345b9ae190fe558178ad3"
      }
     },
     "metadata": {}
    }
   ],
   "metadata": {}
  },
  {
   "cell_type": "markdown",
   "source": [
    "# Field Type Specific Fields"
   ],
   "metadata": {}
  },
  {
   "cell_type": "code",
   "execution_count": 8,
   "source": [
    "# Simply display each field as grouped text input\n",
    "input_layout = Layout( width='40%')\n",
    "label_layout = Layout( width='30%', display=\"flex\", justify_content=\"flex-end\")\n",
    "desc_layout = Layout( width='30%', display=\"flex\", justify_content=\"flex-start\")\n",
    "field_container_layout = Layout(display='flex', width='100%', align_items='stretch', flex_flow='horiz')\n",
    "\n",
    "def get_field(field):\n",
    "    if isinstance(field, Select):\n",
    "        return widgets.RadioButtons(\n",
    "            options=[(opt.label, opt.uid) for opt in field.options],\n",
    "            layout=input_layout,\n",
    "            disabled=False\n",
    "        )\n",
    "    if isinstance(field, NumberField):\n",
    "        if field.cls == int:\n",
    "            return widgets.IntSlider(layout=input_layout, min=field.min, max=field.max, step=field.step)   \n",
    "\n",
    "    if field.cls == str:\n",
    "            return widgets.Text(layout=input_layout)\n",
    "    return widgets.Text(layout=input_layout)\n",
    "\n",
    "field_widgets = {}\n",
    "field_inputs = {}\n",
    "\n",
    "for i, field in enumerate(example_fields):\n",
    "    if field.group not in field_widgets:\n",
    "        field_widgets[field.group] = []\n",
    "        field_inputs[field.group] = []\n",
    "    label = widgets.Label(field.label, layout=label_layout)\n",
    "    input_field = get_field(field)\n",
    "    desc = widgets.Label(field.desc, layout=desc_layout)\n",
    "    contained = Box([label, input_field, desc], layout=field_container_layout)\n",
    "    field_widgets[field.group].append(contained)\n",
    "    field_inputs[field.group].append((i, input_field))\n",
    "\n",
    "container_layout = Layout(\n",
    "    display='flex',\n",
    "    border='solid 0.1px',\n",
    "    flex_flow='column',\n",
    "    align_items='stretch',\n",
    ")\n",
    "boxes = VBox([Box(children=[widgets.Label(k), *v], layout=container_layout) for k,v in field_widgets.items()], layout=container_layout)\n",
    "boxes\n",
    "# field_widgets\n"
   ],
   "outputs": [
    {
     "output_type": "display_data",
     "data": {
      "text/plain": [
       "VBox(children=(Box(children=(Label(value='main'), Box(children=(Label(value='Foo', layout=Layout(display='flex…"
      ],
      "application/vnd.jupyter.widget-view+json": {
       "version_major": 2,
       "version_minor": 0,
       "model_id": "2e19a5617dea44fe8bb8fe9c39c9cd2f"
      }
     },
     "metadata": {}
    }
   ],
   "metadata": {}
  },
  {
   "cell_type": "markdown",
   "source": [
    "# Convert inputs to config file"
   ],
   "metadata": {}
  },
  {
   "cell_type": "code",
   "execution_count": 9,
   "source": [
    "for group in field_inputs:\n",
    "    group_widgets = field_inputs[group]\n",
    "    for (i, w) in group_widgets:\n",
    "        print(f\"{example_fields[i].label}: {w.value}\")"
   ],
   "outputs": [
    {
     "output_type": "stream",
     "name": "stdout",
     "text": [
      "Foo: \n",
      "Bar: 3\n",
      "Sel: a\n",
      "Bar: \n"
     ]
    }
   ],
   "metadata": {}
  },
  {
   "cell_type": "markdown",
   "source": [
    "# Embed graphs in widgets"
   ],
   "metadata": {}
  },
  {
   "cell_type": "code",
   "execution_count": 10,
   "source": [
    "from matplotlib import pyplot as plt\n",
    "# NOTE: Needs ipyml https://matplotlib.org/stable/tutorials/introductory/usage.html?highlight=ipympl#ipympl\n",
    "output_a = widgets.Output()\n",
    "with output_a:\n",
    "  plt.plot([1,2,3])\n",
    "  plt.show() \n",
    "# output_b = widgets.Output()\n",
    "# with output_b:\n",
    "#   plt.plot([4,2,3])\n",
    "# #   plt.show() \n",
    "b = Box([\n",
    "    widgets.Label(\"hello\"),\n",
    "    widgets.Text(),\n",
    "    output_a,\n",
    "    widgets.Label(\"World\"),\n",
    "    # output_b,\n",
    "])\n",
    "display(b)\n",
    "# display(output_b)\n"
   ],
   "outputs": [
    {
     "output_type": "display_data",
     "data": {
      "text/plain": [
       "Box(children=(Label(value='hello'), Text(value=''), Output(), Label(value='World')))"
      ],
      "application/vnd.jupyter.widget-view+json": {
       "version_major": 2,
       "version_minor": 0,
       "model_id": "1e661378f8c04798999ca7d477299f30"
      }
     },
     "metadata": {}
    }
   ],
   "metadata": {}
  },
  {
   "cell_type": "markdown",
   "source": [
    "# Using Widget Generator Class"
   ],
   "metadata": {}
  },
  {
   "cell_type": "code",
   "execution_count": 11,
   "source": [
    "configGenerator = ConfigGeneratorUI(example_fields)\n",
    "ui = configGenerator.generate_widgets()\n",
    "display(ui)\n"
   ],
   "outputs": [
    {
     "output_type": "display_data",
     "data": {
      "text/plain": [
       "VBox(children=(Box(children=(Button(description='main', style=ButtonStyle()), Box(children=(Box(children=(Labe…"
      ],
      "application/vnd.jupyter.widget-view+json": {
       "version_major": 2,
       "version_minor": 0,
       "model_id": "e68b4ce78a65465f85b31f6882ac5073"
      }
     },
     "metadata": {}
    }
   ],
   "metadata": {}
  },
  {
   "cell_type": "markdown",
   "source": [
    "# Dynamic field counts\n",
    "We need to be able to set the number of sub fields based on a slider"
   ],
   "metadata": {}
  },
  {
   "cell_type": "code",
   "execution_count": 12,
   "source": [
    "inputs = [widgets.Text() for _ in range(10)]\n",
    "field_count = widgets.IntSlider(min=0, max=len(inputs)-1)\n",
    "output = widgets.Output()\n",
    "output_text = widgets.Text()\n",
    "box_layout = widgets.Layout(\n",
    "    display=\"flex\",\n",
    "    flex_flow=\"column\",\n",
    "    height=\"auto\",\n",
    ")\n",
    "input_container = Box(inputs, layout=box_layout)\n",
    "\n",
    "def limit_inputs_to_slider(sender):\n",
    "    output_text.value = str(field_count.value)\n",
    "    for i in inputs:\n",
    "        i.layout.visibility = \"hidden\"\n",
    "        i.layout.max_height = \"0\"\n",
    "    for i in range(field_count.value):\n",
    "        inputs[i].layout.visibility = \"visible\"\n",
    "        i.layout.max_height = \"100\"\n",
    "\n",
    "field_count.observe(limit_inputs_to_slider, names=\"value\")\n",
    "\n",
    "display(field_count)\n",
    "display(input_container)\n",
    "display(output)\n",
    "display(output_text)"
   ],
   "outputs": [
    {
     "output_type": "display_data",
     "data": {
      "text/plain": [
       "IntSlider(value=0, max=9)"
      ],
      "application/vnd.jupyter.widget-view+json": {
       "version_major": 2,
       "version_minor": 0,
       "model_id": "2c4854458b7d433787547563ad14505a"
      }
     },
     "metadata": {}
    },
    {
     "output_type": "display_data",
     "data": {
      "text/plain": [
       "Box(children=(Text(value=''), Text(value=''), Text(value=''), Text(value=''), Text(value=''), Text(value=''), …"
      ],
      "application/vnd.jupyter.widget-view+json": {
       "version_major": 2,
       "version_minor": 0,
       "model_id": "5d19c8bfa7b647dba60b911ad80b99e3"
      }
     },
     "metadata": {}
    },
    {
     "output_type": "display_data",
     "data": {
      "text/plain": [
       "Output()"
      ],
      "application/vnd.jupyter.widget-view+json": {
       "version_major": 2,
       "version_minor": 0,
       "model_id": "e41cdf7333244339bfd383b26a181f42"
      }
     },
     "metadata": {}
    },
    {
     "output_type": "display_data",
     "data": {
      "text/plain": [
       "Text(value='')"
      ],
      "application/vnd.jupyter.widget-view+json": {
       "version_major": 2,
       "version_minor": 0,
       "model_id": "ffd57323068047d48825e7009429b1ac"
      }
     },
     "metadata": {}
    }
   ],
   "metadata": {}
  },
  {
   "cell_type": "code",
   "execution_count": 13,
   "source": [
    "inputs = [widgets.Text() for _ in range(10)]\n",
    "field_count = widgets.IntSlider(min=0, max=len(inputs)-1)\n",
    "output = widgets.Output()\n",
    "output_text = widgets.Text()\n",
    "box_layout = widgets.Layout(\n",
    "    display=\"flex\",\n",
    "    flex_flow=\"column\",\n",
    "    height=\"auto\",\n",
    ")\n",
    "input_container = Box(inputs, layout=box_layout)\n",
    "button = widgets.Button(description=\"Click Me!\")\n",
    "\n",
    "def limit_inputs_to_slider(sender):\n",
    "    output_text.value = str(field_count.value)\n",
    "    for i, inputItem in enumerate(inputs):\n",
    "        if i > field_count.value:\n",
    "            inputItem.layout.visibility = \"hidden\"\n",
    "            inputItem.layout.max_height = \"0\"\n",
    "        else:\n",
    "            inputItem.layout.visibility = \"visible\"\n",
    "            inputItem.layout.max_height = \"100\"\n",
    "\n",
    "def on_button_clicked(b):\n",
    "    for inputItem in inputs:\n",
    "        inputItem.layout.visibility = \"visible\"\n",
    "        inputItem.layout.max_height = \"100\"\n",
    "    \n",
    "button.on_click(on_button_clicked)\n",
    "\n",
    "field_count.observe(limit_inputs_to_slider, names=\"value\")\n",
    "\n",
    "display(field_count)\n",
    "display(input_container)\n",
    "display(output)\n",
    "display(output_text)\n",
    "display(button)\n"
   ],
   "outputs": [
    {
     "output_type": "display_data",
     "data": {
      "text/plain": [
       "IntSlider(value=0, max=9)"
      ],
      "application/vnd.jupyter.widget-view+json": {
       "version_major": 2,
       "version_minor": 0,
       "model_id": "c6f778e0428a4923b3dd48e4ea518ffa"
      }
     },
     "metadata": {}
    },
    {
     "output_type": "display_data",
     "data": {
      "text/plain": [
       "Box(children=(Text(value=''), Text(value=''), Text(value=''), Text(value=''), Text(value=''), Text(value=''), …"
      ],
      "application/vnd.jupyter.widget-view+json": {
       "version_major": 2,
       "version_minor": 0,
       "model_id": "cb881e89fc8b4809a3516704afb93282"
      }
     },
     "metadata": {}
    },
    {
     "output_type": "display_data",
     "data": {
      "text/plain": [
       "Output()"
      ],
      "application/vnd.jupyter.widget-view+json": {
       "version_major": 2,
       "version_minor": 0,
       "model_id": "6dd256298c6846c1b53adc9cbc43c476"
      }
     },
     "metadata": {}
    },
    {
     "output_type": "display_data",
     "data": {
      "text/plain": [
       "Text(value='')"
      ],
      "application/vnd.jupyter.widget-view+json": {
       "version_major": 2,
       "version_minor": 0,
       "model_id": "caffeb9f24d44d44917653be4ea8c564"
      }
     },
     "metadata": {}
    },
    {
     "output_type": "display_data",
     "data": {
      "text/plain": [
       "Button(description='Click Me!', style=ButtonStyle())"
      ],
      "application/vnd.jupyter.widget-view+json": {
       "version_major": 2,
       "version_minor": 0,
       "model_id": "e194345b74cd4b00a7bfc04a8c4f52a5"
      }
     },
     "metadata": {}
    }
   ],
   "metadata": {}
  },
  {
   "cell_type": "code",
   "execution_count": 14,
   "source": [
    "# Display sections based on initial inputs\n",
    "from IPython.display import display\n",
    "button = widgets.Button(description=\"Click Me!\")\n",
    "output = widgets.Output()\n",
    "\n",
    "label = widgets.Label(\"hello\")\n",
    "inputs = [\n",
    "    widgets.Label(\"A\"),\n",
    "    widgets.Label(\"B\"),\n",
    "    widgets.Label(\"C\"),\n",
    "    widgets.Label(\"D\"),\n",
    "]\n",
    "section = VBox(inputs)\n",
    "def on_button_clicked(b):\n",
    "    inputs[2].layout.visibility = 'visible' if inputs[2].layout.visibility == 'hidden' else 'hidden'\n",
    "    inputs[2].layout.height = '0' if inputs[2].layout.visibility == 'hidden' else 'auto'\n",
    "    \n",
    "button.on_click(on_button_clicked)\n",
    "display(Box([label, button, section]))\n",
    "display(output)\n"
   ],
   "outputs": [
    {
     "output_type": "display_data",
     "data": {
      "text/plain": [
       "Box(children=(Label(value='hello'), Button(description='Click Me!', style=ButtonStyle()), VBox(children=(Label…"
      ],
      "application/vnd.jupyter.widget-view+json": {
       "version_major": 2,
       "version_minor": 0,
       "model_id": "7fd3deb991f7423ba4427a253872d825"
      }
     },
     "metadata": {}
    },
    {
     "output_type": "display_data",
     "data": {
      "text/plain": [
       "Output()"
      ],
      "application/vnd.jupyter.widget-view+json": {
       "version_major": 2,
       "version_minor": 0,
       "model_id": "d3082b893cf84eaeb092f8f950128966"
      }
     },
     "metadata": {}
    }
   ],
   "metadata": {}
  },
  {
   "cell_type": "code",
   "execution_count": 16,
   "source": [
    "inputs = [widgets.Text() for _ in range(10)]\n",
    "field_count = widgets.IntSlider(min=0, max=len(inputs)-1)\n",
    "input_container = widgets.VBox(inputs)\n",
    "\n",
    "def limit_inputs_to_slider(sender):\n",
    "    for i, inputItem in enumerate(inputs):\n",
    "        if i > field_count.value:\n",
    "            inputItem.layout.visibility = \"hidden\"\n",
    "            inputItem.layout.max_height = \"0px\"\n",
    "        else:\n",
    "            inputItem.layout.visibility = \"visible\"\n",
    "            inputItem.layout.max_height = \"100px\"\n",
    "\n",
    "field_count.observe(limit_inputs_to_slider, names=\"value\")\n",
    "\n",
    "display(field_count)\n",
    "display(input_container)\n"
   ],
   "outputs": [
    {
     "output_type": "display_data",
     "data": {
      "text/plain": [
       "IntSlider(value=0, max=9)"
      ],
      "application/vnd.jupyter.widget-view+json": {
       "version_major": 2,
       "version_minor": 0,
       "model_id": "e6979952bb1842cea12b5952ffbfee9e"
      }
     },
     "metadata": {}
    },
    {
     "output_type": "display_data",
     "data": {
      "text/plain": [
       "VBox(children=(Text(value=''), Text(value=''), Text(value=''), Text(value=''), Text(value=''), Text(value=''),…"
      ],
      "application/vnd.jupyter.widget-view+json": {
       "version_major": 2,
       "version_minor": 0,
       "model_id": "a999c475b2cc4fe1843de5c39b53052d"
      }
     },
     "metadata": {}
    }
   ],
   "metadata": {}
  }
 ],
 "metadata": {
  "orig_nbformat": 4,
  "language_info": {
   "name": "python"
  }
 },
 "nbformat": 4,
 "nbformat_minor": 2
}