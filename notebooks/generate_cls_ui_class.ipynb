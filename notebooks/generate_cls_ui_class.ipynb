{
 "cells": [
  {
   "cell_type": "code",
   "execution_count": 1,
   "source": [
    "import pytest\n",
    "import json\n",
    "import ipywidgets as widgets\n",
    "from enum import Enum\n",
    "from data_helpers.cls_construction import *\n",
    "from data_helpers.cls_parsing import dict_to_cls\n",
    "from data_helpers.encoders import AdvancedJsonDecoder, AdvancedJsonEncoder\n"
   ],
   "outputs": [],
   "metadata": {}
  },
  {
   "cell_type": "code",
   "execution_count": 2,
   "source": [
    "\n",
    "example_fields = [\n",
    "    Field('main', 'foo', 'Foo', str, 'Example field description a', True, None, []),\n",
    "    NumberField('main', 'bar', 'Bar', int, 'Example number field', False, 9, min=3, max=33, step=3),\n",
    "    Select('main', 'sel', 'Sel', str, 'Example field', False, None,\n",
    "           options=[Option('a', 'A', []), Option('b', 'B', [])]),\n",
    "    Field('other', 'bar', 'Bar', str, 'Example field', True, \"default_bar\", []),\n",
    "]\n",
    "\n",
    "example_groups = set(f.group for f in example_fields)"
   ],
   "outputs": [],
   "metadata": {}
  },
  {
   "cell_type": "code",
   "execution_count": 3,
   "source": [
    "configGenerator = ConfigGeneratorUI(example_fields)\n",
    "ui = configGenerator.generate_widgets()\n",
    "input_data = configGenerator.field_inputs\n",
    "display(ui)"
   ],
   "outputs": [
    {
     "output_type": "display_data",
     "data": {
      "text/plain": [
       "VBox(children=(Box(children=(Button(description='main', style=ButtonStyle()), Box(children=(Box(children=(Labe…"
      ],
      "application/vnd.jupyter.widget-view+json": {
       "version_major": 2,
       "version_minor": 0,
       "model_id": "b92fe7a203474d7783958027cbbcf90c"
      }
     },
     "metadata": {}
    }
   ],
   "metadata": {}
  },
  {
   "cell_type": "code",
   "execution_count": 6,
   "source": [
    "configGenerator.get_data_dict()"
   ],
   "outputs": [
    {
     "output_type": "execute_result",
     "data": {
      "text/plain": [
       "{'main': {'foo': '', 'bar': 12, 'sel': 'b'}, 'other': {'bar': ''}}"
      ]
     },
     "metadata": {},
     "execution_count": 6
    }
   ],
   "metadata": {}
  }
 ],
 "metadata": {
  "orig_nbformat": 4,
  "language_info": {
   "name": "python"
  }
 },
 "nbformat": 4,
 "nbformat_minor": 2
}