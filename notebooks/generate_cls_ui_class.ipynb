{
 "cells": [
  {
   "cell_type": "code",
   "execution_count": 1,
   "source": [
    "import pytest\n",
    "import json\n",
    "import ipywidgets as widgets\n",
    "from enum import Enum\n",
    "from data_helpers.cls_construction import *\n",
    "from data_helpers.cls_parsing import dict_to_cls\n",
    "from data_helpers.encoders import AdvancedJsonDecoder, AdvancedJsonEncoder\n"
   ],
   "outputs": [],
   "metadata": {}
  },
  {
   "cell_type": "code",
   "execution_count": 2,
   "source": [
    "\n",
    "%%html\n",
    "<style>\n",
    "  .field_label {\n",
    "      color: white;\n",
    "      background-color: grey;\n",
    "      text-align:right;\n",
    "  }\n",
    "</style>"
   ],
   "outputs": [
    {
     "output_type": "display_data",
     "data": {
      "text/plain": [
       "<IPython.core.display.HTML object>"
      ],
      "text/html": [
       "<style>\n",
       "  .field_label {\n",
       "      color: white;\n",
       "      background-color: grey;\n",
       "      text-align:right;\n",
       "  }\n",
       "</style>\n"
      ]
     },
     "metadata": {}
    }
   ],
   "metadata": {}
  },
  {
   "cell_type": "code",
   "execution_count": 3,
   "source": [
    "InnerGroupStructure = Group(\n",
    "    'inner_group',\n",
    "    'Inner Group',\n",
    "    True,\n",
    "    fields=[\n",
    "        Field('name', 'Name', str, 'Name', True, default=\"\"),\n",
    "    ],\n",
    ")\n",
    "InnerGroup, subclasses = group_to_class(InnerGroupStructure, globals().get('__name__'))\n",
    "\n",
    "example_fields = [\n",
    "    Field('foo', 'Foo', str, 'Example field description a', True),\n",
    "    Select(\n",
    "        'sel', 'Sel', str, 'Example field', True,\n",
    "        default='A',\n",
    "        options=[\n",
    "               Option('a', 'A', []),\n",
    "               Option('b', 'B', [])\n",
    "        ]\n",
    "    ),\n",
    "\n",
    "    NumberField('bar', 'Bar', int, 'Example number field', True, 9, min=3, max=33, step=3),\n",
    "    ListField(Field('foos', 'Foos', int, 'Example list', default=[])),\n",
    "    Group('main', 'Main', True, [\n",
    "        Field('inner', 'Inner', str),\n",
    "    ]),\n",
    "    Group('other', 'Other', True, [\n",
    "        Field('inner_b', 'InnerB', str),\n",
    "    ]),\n",
    "    ListGroup(InnerGroupStructure),\n",
    "]\n",
    "\n",
    "example_group = Group('GeneratedType', 'Generated Type', True, example_fields)\n"
   ],
   "outputs": [],
   "metadata": {}
  },
  {
   "cell_type": "code",
   "execution_count": 4,
   "source": [
    "configGenerator = ConfigGeneratorUI(example_group)\n",
    "ui = configGenerator.generate_widgets()\n",
    "input_data = configGenerator.field_inputs\n",
    "# display(ui)"
   ],
   "outputs": [],
   "metadata": {}
  },
  {
   "cell_type": "code",
   "execution_count": 5,
   "source": [
    "configGenerator.get_data_dict()"
   ],
   "outputs": [
    {
     "output_type": "execute_result",
     "data": {
      "text/plain": [
       "{'foo': '',\n",
       " 'sel': 'a',\n",
       " 'bar': 3,\n",
       " 'foos': [''],\n",
       " 'main': {'inner': ''},\n",
       " 'other': {'inner_b': ''},\n",
       " 'inner_group': [{'name': ''}]}"
      ]
     },
     "metadata": {},
     "execution_count": 5
    }
   ],
   "metadata": {}
  },
  {
   "cell_type": "markdown",
   "source": [
    "# CONFIG"
   ],
   "metadata": {}
  },
  {
   "cell_type": "code",
   "execution_count": 21,
   "source": [
    "ConfigSeasonStructure = Group(\n",
    "    'config_season',\n",
    "    'ConfigSeason',\n",
    "    True,\n",
    "    fields=[\n",
    "        Select('growing_season_method', 'Growing Season Method', str, default='Constant', options=[\n",
    "            Option('constant', 'Constant', 'SGS and EGS supplied'),\n",
    "            Option('all year', 'All Year', 'SGS = 1 and EGS = 365'),\n",
    "            Option('forest latitude', 'Forest Latitude', 'SGS = 1 and EGS = 365'),\n",
    "        ]),\n",
    "        Field('SGS', 'SGS', int, 'Start of the growing season', unit=\"day\"),\n",
    "    ],\n",
    ")\n",
    "\n",
    "ConfigSeason, subclasses = group_to_class(ConfigSeasonStructure, globals().get('__name__'))\n",
    "\n",
    "ConfigLocationStructure = Group(\n",
    "    'location',\n",
    "    'Location',\n",
    "    True,\n",
    "    fields=[\n",
    "        Field('lat', 'Latitude', float, '\\n'.join(['Latitude with a really long description' for _ in range(10)]), True),\n",
    "        Field('lon', 'Longitude', float, 'Longitude', True),\n",
    "    ]\n",
    ")\n",
    "ConfigLocation, subclasses = group_to_class(ConfigLocationStructure, globals().get('__name__'))\n",
    "ConfigLandCoverParametersStructure = Group(\n",
    "    'parameters',\n",
    "    'LandCoverParameters',\n",
    "    True,\n",
    "    fields=[\n",
    "        Field('name', 'Name', str, 'Land cover name', True, default=\"\"),\n",
    "        ConfigSeasonStructure,\n",
    "    ],\n",
    ")\n",
    "ConfigLandCoverParameters, subclasses = group_to_class(ConfigLandCoverParametersStructure, globals().get('__name__'))\n",
    "\n",
    "ConfigLandCoverStructure = Group(\n",
    "    'land_cover',\n",
    "    'LandCover',\n",
    "    True,\n",
    "    fields=[\n",
    "        Field('nL', 'nL', float, 'Number of layers', True, default=1),\n",
    "        Field('nLC', 'nLC', float, 'Number of components', True, default=1),\n",
    "        Field('nP', 'n/P', float, 'Number of leaf populations', True, default=1),\n",
    "        ListGroup(ConfigLandCoverParametersStructure),\n",
    "    ]\n",
    ")\n",
    "ConfigLandCover, subclasses = group_to_class(ConfigLandCoverStructure, globals().get('__name__'))\n",
    "config_shape = Group(\n",
    "    'Config', \n",
    "    'Config',\n",
    "    True,\n",
    "    fields=[\n",
    "        Field('version', 'Version', int, 'Config Version', True),\n",
    "        ConfigLocationStructure,\n",
    "        ConfigLandCoverStructure,\n",
    "        # Field('location', 'Location', ConfigLocation, 'Config location', True),\n",
    "        # Field('land_cover', 'landCover', ConfigLandCover, 'Config land cover', True),\n",
    "    ]\n",
    ")\n",
    "Config, subclasses = group_to_class(config_shape, globals().get('__name__'))\n"
   ],
   "outputs": [],
   "metadata": {}
  },
  {
   "cell_type": "code",
   "execution_count": 22,
   "source": [
    "configGenerator = ConfigGeneratorUI(config_shape)\n",
    "ui = configGenerator.generate_widgets()\n",
    "# input_data = configGenerator.field_inputs\n",
    "# display(ui)"
   ],
   "outputs": [],
   "metadata": {}
  },
  {
   "cell_type": "code",
   "execution_count": 23,
   "source": [
    "configGenerator.get_data_dict()"
   ],
   "outputs": [
    {
     "output_type": "error",
     "ename": "AttributeError",
     "evalue": "'ListGroup' object has no attribute 'variable'",
     "traceback": [
      "\u001b[0;31m---------------------------------------------------------------------------\u001b[0m",
      "\u001b[0;31mAttributeError\u001b[0m                            Traceback (most recent call last)",
      "\u001b[0;32m/tmp/ipykernel_7298/3964811528.py\u001b[0m in \u001b[0;36m<module>\u001b[0;34m\u001b[0m\n\u001b[0;32m----> 1\u001b[0;31m \u001b[0mconfigGenerator\u001b[0m\u001b[0;34m.\u001b[0m\u001b[0mget_data_dict\u001b[0m\u001b[0;34m(\u001b[0m\u001b[0;34m)\u001b[0m\u001b[0;34m\u001b[0m\u001b[0;34m\u001b[0m\u001b[0m\n\u001b[0m",
      "\u001b[0;32m~/source/data_utils/data_helpers/cls_construction.py\u001b[0m in \u001b[0;36mget_data_dict\u001b[0;34m(self)\u001b[0m\n\u001b[1;32m    374\u001b[0m                 \u001b[0mf\u001b[0m \u001b[0;34m=\u001b[0m \u001b[0mself\u001b[0m\u001b[0;34m.\u001b[0m\u001b[0mfields\u001b[0m\u001b[0;34m[\u001b[0m\u001b[0mi\u001b[0m\u001b[0;34m]\u001b[0m\u001b[0;34m\u001b[0m\u001b[0;34m\u001b[0m\u001b[0m\n\u001b[1;32m    375\u001b[0m                 out[f.variable if not isinstance(\n\u001b[0;32m--> 376\u001b[0;31m                     f, ListBase) else f.field.variable] = self.get_field_data(f, w)\n\u001b[0m\u001b[1;32m    377\u001b[0m             \u001b[0;32mreturn\u001b[0m \u001b[0mout\u001b[0m\u001b[0;34m\u001b[0m\u001b[0;34m\u001b[0m\u001b[0m\n\u001b[1;32m    378\u001b[0m \u001b[0;34m\u001b[0m\u001b[0m\n",
      "\u001b[0;32m~/source/data_utils/data_helpers/cls_construction.py\u001b[0m in \u001b[0;36mget_field_data\u001b[0;34m(self, f, w)\u001b[0m\n\u001b[1;32m    363\u001b[0m                 \u001b[0;32mreturn\u001b[0m \u001b[0mw\u001b[0m\u001b[0;34m.\u001b[0m\u001b[0mvalue\u001b[0m\u001b[0;34m\u001b[0m\u001b[0;34m\u001b[0m\u001b[0m\n\u001b[1;32m    364\u001b[0m             \u001b[0;32mif\u001b[0m \u001b[0misinstance\u001b[0m\u001b[0;34m(\u001b[0m\u001b[0mf\u001b[0m\u001b[0;34m,\u001b[0m \u001b[0mGroup\u001b[0m\u001b[0;34m)\u001b[0m\u001b[0;34m:\u001b[0m\u001b[0;34m\u001b[0m\u001b[0;34m\u001b[0m\u001b[0m\n\u001b[0;32m--> 365\u001b[0;31m                 \u001b[0;32mreturn\u001b[0m \u001b[0;34m{\u001b[0m\u001b[0mfi\u001b[0m\u001b[0;34m.\u001b[0m\u001b[0mvariable\u001b[0m\u001b[0;34m:\u001b[0m \u001b[0mself\u001b[0m\u001b[0;34m.\u001b[0m\u001b[0mget_field_data\u001b[0m\u001b[0;34m(\u001b[0m\u001b[0mfi\u001b[0m\u001b[0;34m,\u001b[0m \u001b[0mwi\u001b[0m\u001b[0;34m[\u001b[0m\u001b[0;36m1\u001b[0m\u001b[0;34m]\u001b[0m\u001b[0;34m)\u001b[0m \u001b[0;32mfor\u001b[0m \u001b[0mfi\u001b[0m\u001b[0;34m,\u001b[0m \u001b[0mwi\u001b[0m \u001b[0;32min\u001b[0m \u001b[0mzip\u001b[0m\u001b[0;34m(\u001b[0m\u001b[0mf\u001b[0m\u001b[0;34m.\u001b[0m\u001b[0mfields\u001b[0m\u001b[0;34m,\u001b[0m \u001b[0mw\u001b[0m\u001b[0;34m)\u001b[0m\u001b[0;34m}\u001b[0m\u001b[0;34m\u001b[0m\u001b[0;34m\u001b[0m\u001b[0m\n\u001b[0m\u001b[1;32m    366\u001b[0m             \u001b[0;32mif\u001b[0m \u001b[0misinstance\u001b[0m\u001b[0;34m(\u001b[0m\u001b[0mf\u001b[0m\u001b[0;34m,\u001b[0m \u001b[0mListBase\u001b[0m\u001b[0;34m)\u001b[0m\u001b[0;34m:\u001b[0m\u001b[0;34m\u001b[0m\u001b[0;34m\u001b[0m\u001b[0m\n\u001b[1;32m    367\u001b[0m                 \u001b[0;31m# TODO: Limit this to range of IntSlider\u001b[0m\u001b[0;34m\u001b[0m\u001b[0;34m\u001b[0m\u001b[0;34m\u001b[0m\u001b[0m\n",
      "\u001b[0;32m~/source/data_utils/data_helpers/cls_construction.py\u001b[0m in \u001b[0;36m<dictcomp>\u001b[0;34m(.0)\u001b[0m\n\u001b[1;32m    363\u001b[0m                 \u001b[0;32mreturn\u001b[0m \u001b[0mw\u001b[0m\u001b[0;34m.\u001b[0m\u001b[0mvalue\u001b[0m\u001b[0;34m\u001b[0m\u001b[0;34m\u001b[0m\u001b[0m\n\u001b[1;32m    364\u001b[0m             \u001b[0;32mif\u001b[0m \u001b[0misinstance\u001b[0m\u001b[0;34m(\u001b[0m\u001b[0mf\u001b[0m\u001b[0;34m,\u001b[0m \u001b[0mGroup\u001b[0m\u001b[0;34m)\u001b[0m\u001b[0;34m:\u001b[0m\u001b[0;34m\u001b[0m\u001b[0;34m\u001b[0m\u001b[0m\n\u001b[0;32m--> 365\u001b[0;31m                 \u001b[0;32mreturn\u001b[0m \u001b[0;34m{\u001b[0m\u001b[0mfi\u001b[0m\u001b[0;34m.\u001b[0m\u001b[0mvariable\u001b[0m\u001b[0;34m:\u001b[0m \u001b[0mself\u001b[0m\u001b[0;34m.\u001b[0m\u001b[0mget_field_data\u001b[0m\u001b[0;34m(\u001b[0m\u001b[0mfi\u001b[0m\u001b[0;34m,\u001b[0m \u001b[0mwi\u001b[0m\u001b[0;34m[\u001b[0m\u001b[0;36m1\u001b[0m\u001b[0;34m]\u001b[0m\u001b[0;34m)\u001b[0m \u001b[0;32mfor\u001b[0m \u001b[0mfi\u001b[0m\u001b[0;34m,\u001b[0m \u001b[0mwi\u001b[0m \u001b[0;32min\u001b[0m \u001b[0mzip\u001b[0m\u001b[0;34m(\u001b[0m\u001b[0mf\u001b[0m\u001b[0;34m.\u001b[0m\u001b[0mfields\u001b[0m\u001b[0;34m,\u001b[0m \u001b[0mw\u001b[0m\u001b[0;34m)\u001b[0m\u001b[0;34m}\u001b[0m\u001b[0;34m\u001b[0m\u001b[0;34m\u001b[0m\u001b[0m\n\u001b[0m\u001b[1;32m    366\u001b[0m             \u001b[0;32mif\u001b[0m \u001b[0misinstance\u001b[0m\u001b[0;34m(\u001b[0m\u001b[0mf\u001b[0m\u001b[0;34m,\u001b[0m \u001b[0mListBase\u001b[0m\u001b[0;34m)\u001b[0m\u001b[0;34m:\u001b[0m\u001b[0;34m\u001b[0m\u001b[0;34m\u001b[0m\u001b[0m\n\u001b[1;32m    367\u001b[0m                 \u001b[0;31m# TODO: Limit this to range of IntSlider\u001b[0m\u001b[0;34m\u001b[0m\u001b[0;34m\u001b[0m\u001b[0;34m\u001b[0m\u001b[0m\n",
      "\u001b[0;31mAttributeError\u001b[0m: 'ListGroup' object has no attribute 'variable'"
     ]
    }
   ],
   "metadata": {}
  },
  {
   "cell_type": "code",
   "execution_count": null,
   "source": [],
   "outputs": [],
   "metadata": {}
  }
 ],
 "metadata": {
  "orig_nbformat": 4,
  "language_info": {
   "name": "python"
  }
 },
 "nbformat": 4,
 "nbformat_minor": 2
}