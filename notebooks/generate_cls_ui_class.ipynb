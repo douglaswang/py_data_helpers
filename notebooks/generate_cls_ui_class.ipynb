{
 "cells": [
  {
   "cell_type": "code",
   "execution_count": 1,
   "source": [
    "import pytest\n",
    "import json\n",
    "import ipywidgets as widgets\n",
    "from enum import Enum\n",
    "from data_helpers.cls_construction import *\n",
    "from data_helpers.cls_parsing import dict_to_cls\n",
    "from data_helpers.encoders import AdvancedJsonDecoder, AdvancedJsonEncoder\n"
   ],
   "outputs": [],
   "metadata": {}
  },
  {
   "cell_type": "code",
   "execution_count": 2,
   "source": [
    "InnerGroupStructure = Group(\n",
    "    'inner_group',\n",
    "    'Inner Group',\n",
    "    True,\n",
    "    fields=[\n",
    "        Field('name', 'Name', str, 'Name', True, default=\"\"),\n",
    "    ],\n",
    ")\n",
    "InnerGroup, subclasses = group_to_class(InnerGroupStructure, globals().get('__name__'))\n",
    "\n",
    "example_fields = [\n",
    "    Field('foo', 'Foo', str, 'Example field description a', True),\n",
    "    Select(\n",
    "        'sel', 'Sel', str, 'Example field', True,\n",
    "        default='A',\n",
    "        options=[\n",
    "               Option('a', 'A', []),\n",
    "               Option('b', 'B', [])\n",
    "        ]\n",
    "    ),\n",
    "\n",
    "    NumberField('bar', 'Bar', int, 'Example number field', True, 9, min=3, max=33, step=3),\n",
    "    ListField(Field('foos', 'Foos', int, 'Example list', default=[])),\n",
    "    Group('main', 'Main', True, [\n",
    "        Field('inner', 'Inner', str),\n",
    "    ]),\n",
    "    Group('other', 'Other', True, [\n",
    "        Field('inner_b', 'InnerB', str),\n",
    "    ]),\n",
    "    ListGroup(InnerGroupStructure),\n",
    "]\n",
    "\n",
    "example_group = Group('GeneratedType', 'Generated Type', True, example_fields)\n"
   ],
   "outputs": [],
   "metadata": {}
  },
  {
   "cell_type": "code",
   "execution_count": 3,
   "source": [
    "configGenerator = ConfigGeneratorUI(example_group)\n",
    "ui = configGenerator.generate_widgets()\n",
    "input_data = configGenerator.field_inputs\n",
    "display(ui)"
   ],
   "outputs": [
    {
     "output_type": "display_data",
     "data": {
      "text/plain": [
       "VBox(children=(Box(children=(Button(description='Generated Type', style=ButtonStyle()), Box(children=(Box(chil…"
      ],
      "application/vnd.jupyter.widget-view+json": {
       "version_major": 2,
       "version_minor": 0,
       "model_id": "a404c50af9d641cfae9030383d1dea3c"
      }
     },
     "metadata": {}
    }
   ],
   "metadata": {}
  },
  {
   "cell_type": "code",
   "execution_count": 5,
   "source": [
    "configGenerator.get_data_dict()"
   ],
   "outputs": [
    {
     "output_type": "execute_result",
     "data": {
      "text/plain": [
       "{'foo': '',\n",
       " 'sel': 'a',\n",
       " 'bar': 3,\n",
       " 'foos': ['zxc', 'dfs', 'sdf'],\n",
       " 'main': {'inner': ''},\n",
       " 'other': {'inner_b': ''},\n",
       " 'inner_group': []}"
      ]
     },
     "metadata": {},
     "execution_count": 5
    }
   ],
   "metadata": {}
  }
 ],
 "metadata": {
  "orig_nbformat": 4,
  "language_info": {
   "name": "python"
  }
 },
 "nbformat": 4,
 "nbformat_minor": 2
}